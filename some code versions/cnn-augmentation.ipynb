{
 "cells": [
  {
   "cell_type": "code",
   "execution_count": 1,
   "metadata": {
    "_cell_guid": "b1076dfc-b9ad-4769-8c92-a6c4dae69d19",
    "_uuid": "8f2839f25d086af736a60e9eeb907d3b93b6e0e5",
    "execution": {
     "iopub.execute_input": "2023-05-09T05:09:54.165214Z",
     "iopub.status.busy": "2023-05-09T05:09:54.164741Z",
     "iopub.status.idle": "2023-05-09T05:09:57.789882Z",
     "shell.execute_reply": "2023-05-09T05:09:57.788336Z",
     "shell.execute_reply.started": "2023-05-09T05:09:54.165174Z"
    }
   },
   "outputs": [
    {
     "name": "stdout",
     "output_type": "stream",
     "text": [
      "using device: cpu\n"
     ]
    }
   ],
   "source": [
    "import numpy as np\n",
    "import pandas as pd \n",
    "\n",
    "import os\n",
    "import json\n",
    "\n",
    "from tqdm import tqdm\n",
    "\n",
    "import cv2\n",
    "    \n",
    "# Pytorch\n",
    "import torch \n",
    "import torch.nn as nn\n",
    "import torch.optim as optim\n",
    "from torch.utils.data import DataLoader, TensorDataset\n",
    "\n",
    "# GPU need\n",
    "GPU = True\n",
    "\n",
    "if GPU and torch.cuda.is_available():\n",
    "    print('using device: cuda')\n",
    "    device = torch.device(\"cuda:0\")\n",
    "else:\n",
    "    print('using device: cpu')\n",
    "    device = torch.device(\"cpu\")\n",
    "\n",
    "# TPU need\n",
    "TPU = False\n",
    "if TPU:\n",
    "    print('using device: tpu')\n",
    "    !apt-get update && apt-get install -y python3-opencv\n",
    "    !pip install opencv-python\n",
    "\n",
    "import matplotlib.pyplot as plt"
   ]
  },
  {
   "cell_type": "markdown",
   "metadata": {},
   "source": [
    "# Data Preparation"
   ]
  },
  {
   "cell_type": "code",
   "execution_count": 2,
   "metadata": {
    "execution": {
     "iopub.execute_input": "2023-05-09T05:09:57.792589Z",
     "iopub.status.busy": "2023-05-09T05:09:57.792022Z",
     "iopub.status.idle": "2023-05-09T05:09:57.799538Z",
     "shell.execute_reply": "2023-05-09T05:09:57.798121Z",
     "shell.execute_reply.started": "2023-05-09T05:09:57.792558Z"
    }
   },
   "outputs": [],
   "source": [
    "root_dir = \"/kaggle/input/benetech-making-graphs-accessible\"\n",
    "\n",
    "train_folder = os.path.join(root_dir, 'train')\n",
    "test_folder = os.path.join(root_dir, 'test')\n",
    "\n",
    "train_annotations_folder = os.path.join(train_folder, 'annotations')\n",
    "train_images_folder = os.path.join(train_folder, 'images')\n",
    "\n",
    "test_images_folder = os.path.join(test_folder, 'images')"
   ]
  },
  {
   "cell_type": "markdown",
   "metadata": {},
   "source": [
    "## Data Loading Method"
   ]
  },
  {
   "cell_type": "code",
   "execution_count": 3,
   "metadata": {
    "execution": {
     "iopub.execute_input": "2023-05-09T05:09:57.802202Z",
     "iopub.status.busy": "2023-05-09T05:09:57.801706Z",
     "iopub.status.idle": "2023-05-09T05:09:57.814305Z",
     "shell.execute_reply": "2023-05-09T05:09:57.812920Z",
     "shell.execute_reply.started": "2023-05-09T05:09:57.802126Z"
    }
   },
   "outputs": [],
   "source": [
    "def normalize_image(img):\n",
    "    img_min = img.min()\n",
    "    img_max = img.max()\n",
    "    img_norm = (img - img_min) / (img_max - img_min)\n",
    "    return img_norm\n",
    "\n",
    "def load_annotation(json_file):\n",
    "    with open(json_file, 'r') as f:\n",
    "        annotation = json.load(f)\n",
    "    return annotation\n",
    "\n",
    "def load_image(image_file):\n",
    "    # Load image\n",
    "    #if GPU == True:\n",
    "\n",
    "    img = cv2.imread(image_file)\n",
    "    img = cv2.resize(img, (128, 128))\n",
    "    img = cv2.cvtColor(img, cv2.COLOR_BGR2GRAY)\n",
    "    img = normalize_image(img)\n",
    "    return img"
   ]
  },
  {
   "cell_type": "markdown",
   "metadata": {},
   "source": [
    "## Data Augmentation Method"
   ]
  },
  {
   "cell_type": "code",
   "execution_count": 4,
   "metadata": {
    "execution": {
     "iopub.execute_input": "2023-05-09T05:09:57.817093Z",
     "iopub.status.busy": "2023-05-09T05:09:57.816706Z",
     "iopub.status.idle": "2023-05-09T05:09:57.830591Z",
     "shell.execute_reply": "2023-05-09T05:09:57.829262Z",
     "shell.execute_reply.started": "2023-05-09T05:09:57.817053Z"
    }
   },
   "outputs": [],
   "source": [
    "import random\n",
    "\n",
    "# Random crop\n",
    "def random_crop(imgs, imgs_augmented):\n",
    "    for img in imgs:\n",
    "        h, w = img.shape[:2]\n",
    "        crop_w, crop_h = w // 2, h // 2\n",
    "        x1 = random.randint(0, w - crop_w)\n",
    "        y1 = random.randint(0, h - crop_h)\n",
    "        x2 = x1 + crop_w\n",
    "        y2 = y1 + crop_h\n",
    "        img = img[y1:y2, x1:x2]\n",
    "        img = cv2.resize(img, (128, 128))\n",
    "        imgs_augmented.append(img)\n",
    "    return imgs_augmented\n",
    "\n",
    "# Random rotation\n",
    "def random_rotation(imgs, imgs_augmented):\n",
    "    for img in imgs:\n",
    "        rows, cols = img.shape[:2]\n",
    "        angle = random.randint(-30, 30)\n",
    "        M = cv2.getRotationMatrix2D((cols / 2, rows / 2), angle, 1)\n",
    "        img = cv2.warpAffine(img, M, (cols, rows))\n",
    "        img = cv2.resize(img, (128, 128))\n",
    "        imgs_augmented.append(img)\n",
    "    return imgs_augmented\n",
    "\n",
    "# Random mixed transformation\n",
    "def random_mixedtran(imgs, imgs_augmented):\n",
    "    for img in imgs:\n",
    "        h, w = img.shape[:2]\n",
    "        crop_w, crop_h = w // 2, h // 2\n",
    "        x1 = random.randint(0, w - crop_w)\n",
    "        y1 = random.randint(0, h - crop_h)\n",
    "        x2 = x1 + crop_w\n",
    "        y2 = y1 + crop_h\n",
    "        img = img[y1:y2, x1:x2]\n",
    "\n",
    "        if np.random.rand() < 0.5:\n",
    "            img = cv2.flip(img, 1)\n",
    "\n",
    "        angle = np.random.randint(-15, 15)\n",
    "        M = cv2.getRotationMatrix2D((img.shape[1]/2, img.shape[0]/2), angle, 1)\n",
    "        img = cv2.warpAffine(img, M, (img.shape[1], img.shape[0]))\n",
    "\n",
    "        img = cv2.resize(img, (128, 128))\n",
    "        imgs_augmented.append(img)\n",
    "    return imgs_augmented"
   ]
  },
  {
   "cell_type": "markdown",
   "metadata": {},
   "source": [
    "## Data Loading"
   ]
  },
  {
   "cell_type": "markdown",
   "metadata": {},
   "source": [
    "### Path"
   ]
  },
  {
   "cell_type": "code",
   "execution_count": 5,
   "metadata": {
    "execution": {
     "iopub.execute_input": "2023-05-09T05:09:57.832215Z",
     "iopub.status.busy": "2023-05-09T05:09:57.831771Z",
     "iopub.status.idle": "2023-05-09T05:09:59.313396Z",
     "shell.execute_reply": "2023-05-09T05:09:59.312031Z",
     "shell.execute_reply.started": "2023-05-09T05:09:57.832174Z"
    }
   },
   "outputs": [
    {
     "name": "stdout",
     "output_type": "stream",
     "text": [
      "# of train images: 60578\n",
      "# of train annotations: 60578\n",
      "# of test images: 5\n"
     ]
    }
   ],
   "source": [
    "# Get all the training images and annotations path\n",
    "train_images_path = sorted([os.path.join(train_images_folder, f) for f in os.listdir(train_images_folder)])\n",
    "train_annotations_path = sorted([os.path.join(train_annotations_folder, f) for f in os.listdir(train_annotations_folder)])\n",
    "\n",
    "test_images_path = sorted([os.path.join(test_images_folder, f) for f in os.listdir(test_images_folder)])\n",
    "\n",
    "print('# of train images:', len(train_images_path))\n",
    "print('# of train annotations:', len(train_annotations_path))\n",
    "print('# of test images:', len(test_images_path))"
   ]
  },
  {
   "cell_type": "markdown",
   "metadata": {},
   "source": [
    "### Anotation"
   ]
  },
  {
   "cell_type": "code",
   "execution_count": 6,
   "metadata": {
    "execution": {
     "iopub.execute_input": "2023-05-09T05:09:59.315430Z",
     "iopub.status.busy": "2023-05-09T05:09:59.314948Z",
     "iopub.status.idle": "2023-05-09T05:16:14.939549Z",
     "shell.execute_reply": "2023-05-09T05:16:14.938276Z",
     "shell.execute_reply.started": "2023-05-09T05:09:59.315389Z"
    }
   },
   "outputs": [
    {
     "name": "stderr",
     "output_type": "stream",
     "text": [
      "100%|██████████| 60578/60578 [06:15<00:00, 161.28it/s]\n"
     ]
    }
   ],
   "source": [
    "train_annotations = [load_annotation(f) for f in tqdm(train_annotations_path)]"
   ]
  },
  {
   "cell_type": "markdown",
   "metadata": {},
   "source": [
    "*Chart Type + Path Dataframe*"
   ]
  },
  {
   "cell_type": "code",
   "execution_count": 7,
   "metadata": {
    "execution": {
     "iopub.execute_input": "2023-05-09T05:16:14.941889Z",
     "iopub.status.busy": "2023-05-09T05:16:14.941550Z",
     "iopub.status.idle": "2023-05-09T05:16:15.519673Z",
     "shell.execute_reply": "2023-05-09T05:16:15.518357Z",
     "shell.execute_reply.started": "2023-05-09T05:16:14.941861Z"
    }
   },
   "outputs": [
    {
     "name": "stderr",
     "output_type": "stream",
     "text": [
      "/opt/conda/lib/python3.10/site-packages/scipy/__init__.py:146: UserWarning: A NumPy version >=1.16.5 and <1.23.0 is required for this version of SciPy (detected version 1.23.5\n",
      "  warnings.warn(f\"A NumPy version >={np_minversion} and <{np_maxversion}\"\n"
     ]
    },
    {
     "name": "stdout",
     "output_type": "stream",
     "text": [
      "[0 1 2 3 4]\n",
      "['dot' 'horizontal_bar' 'line' 'scatter' 'vertical_bar']\n"
     ]
    }
   ],
   "source": [
    "from sklearn.preprocessing import LabelEncoder\n",
    "\n",
    "# Encode the chart-type\n",
    "label_encoder = LabelEncoder()\n",
    "\n",
    "train_charts_type = [a['chart-type'] for a in train_annotations]\n",
    "train_charts_numtype = label_encoder.fit_transform(train_charts_type)\n",
    "y = train_charts_numtype\n",
    "\n",
    "print(np.unique(train_charts_numtype))\n",
    "print(np.unique(train_charts_type))\n",
    "\n",
    "#test_charts_type = label_encoder.fit_transform(['line', 'line', 'vertical bar', 'dot', 'vertical bar'])\n",
    "#test_charts_numtype = label_encoder.fit_transform(test_charts_type)\n",
    "#y_test = test_charts_numtype"
   ]
  },
  {
   "cell_type": "code",
   "execution_count": 8,
   "metadata": {
    "execution": {
     "iopub.execute_input": "2023-05-09T05:16:15.521333Z",
     "iopub.status.busy": "2023-05-09T05:16:15.520943Z",
     "iopub.status.idle": "2023-05-09T05:16:15.577553Z",
     "shell.execute_reply": "2023-05-09T05:16:15.576204Z",
     "shell.execute_reply.started": "2023-05-09T05:16:15.521281Z"
    }
   },
   "outputs": [],
   "source": [
    "# Combine train_images_path and y into dataframe\n",
    "train_df_path = pd.DataFrame({'image': train_images_path, 'chart-type': train_charts_numtype})\n",
    "\n",
    "# Group the df for different chart-type\n",
    "train_df_path_grouped = train_df_path.groupby('chart-type')\n",
    "train_df_path_grouped = [train_df_path_grouped.get_group(x) for x in train_df_path_grouped.groups]"
   ]
  },
  {
   "cell_type": "markdown",
   "metadata": {},
   "source": [
    "*Type 0 (DOT)*"
   ]
  },
  {
   "cell_type": "code",
   "execution_count": 9,
   "metadata": {
    "execution": {
     "iopub.execute_input": "2023-05-09T05:16:15.579346Z",
     "iopub.status.busy": "2023-05-09T05:16:15.579000Z",
     "iopub.status.idle": "2023-05-09T05:17:01.117496Z",
     "shell.execute_reply": "2023-05-09T05:17:01.116081Z",
     "shell.execute_reply.started": "2023-05-09T05:16:15.579317Z"
    }
   },
   "outputs": [
    {
     "name": "stderr",
     "output_type": "stream",
     "text": [
      "100%|██████████| 52/52 [00:45<00:00,  1.14it/s]\n"
     ]
    }
   ],
   "source": [
    "# Load all the training images for type 0\n",
    "train_images_path_0 = train_df_path_grouped[0]\n",
    "train_images_path_0 = train_images_path_0['image'].values\n",
    "\n",
    "batch_size = 100\n",
    "train_images_0 = []\n",
    "for i in tqdm(range(0, len(train_images_path_0)-1, batch_size)):\n",
    "    train_images_batch_0 = train_images_path_0[i:i + batch_size]\n",
    "    batch_images_0 = [load_image(f) for f in train_images_batch_0]\n",
    "    train_images_0.extend(batch_images_0)\n",
    "\n",
    "# train_images_0_augmented = []\n",
    "# augmented_num = 2\n",
    "# for i in tqdm(range(augmented_num)): \n",
    "#     random_crop(train_images_0, train_images_0_augmented)"
   ]
  },
  {
   "cell_type": "code",
   "execution_count": 10,
   "metadata": {
    "execution": {
     "iopub.execute_input": "2023-05-09T05:17:01.122417Z",
     "iopub.status.busy": "2023-05-09T05:17:01.121983Z",
     "iopub.status.idle": "2023-05-09T05:17:01.129900Z",
     "shell.execute_reply": "2023-05-09T05:17:01.128267Z",
     "shell.execute_reply.started": "2023-05-09T05:17:01.122382Z"
    }
   },
   "outputs": [
    {
     "name": "stdout",
     "output_type": "stream",
     "text": [
      "5131\n"
     ]
    }
   ],
   "source": [
    "print(len(train_images_0))"
   ]
  },
  {
   "cell_type": "markdown",
   "metadata": {},
   "source": [
    "*Type 1 (HORIZONTAL BAR)*\n"
   ]
  },
  {
   "cell_type": "code",
   "execution_count": 11,
   "metadata": {
    "execution": {
     "iopub.execute_input": "2023-05-09T05:17:01.131630Z",
     "iopub.status.busy": "2023-05-09T05:17:01.131280Z",
     "iopub.status.idle": "2023-05-09T05:17:03.218610Z",
     "shell.execute_reply": "2023-05-09T05:17:03.217352Z",
     "shell.execute_reply.started": "2023-05-09T05:17:01.131603Z"
    }
   },
   "outputs": [
    {
     "name": "stderr",
     "output_type": "stream",
     "text": [
      "100%|██████████| 1/1 [00:00<00:00,  1.37it/s]\n",
      "100%|██████████| 25/25 [00:01<00:00, 18.76it/s]\n"
     ]
    }
   ],
   "source": [
    "# Load all the training images for type 1\n",
    "train_images_path_1 = train_df_path_grouped[1]\n",
    "train_images_path_1 = train_images_path_1['image'].values\n",
    "\n",
    "batch_size = 100\n",
    "train_images_1 = []\n",
    "for i in tqdm(range(0, len(train_images_path_1)-1, batch_size)):\n",
    "    train_images_batch_1 = train_images_path_1[i:i + batch_size]\n",
    "    batch_images_1 = [load_image(f) for f in train_images_batch_1]\n",
    "    train_images_1.extend(batch_images_1)\n",
    "\n",
    "train_images_1_augmented = []\n",
    "augmentednum = 25\n",
    "for i in tqdm(range(augmentednum)): \n",
    "    random_crop(train_images_1, train_images_1_augmented)\n",
    "    random_rotation(train_images_1, train_images_1_augmented)\n",
    "    random_mixedtran(train_images_1, train_images_1_augmented)"
   ]
  },
  {
   "cell_type": "code",
   "execution_count": 12,
   "metadata": {
    "execution": {
     "iopub.execute_input": "2023-05-09T05:17:03.220428Z",
     "iopub.status.busy": "2023-05-09T05:17:03.220055Z",
     "iopub.status.idle": "2023-05-09T05:17:03.226355Z",
     "shell.execute_reply": "2023-05-09T05:17:03.224853Z",
     "shell.execute_reply.started": "2023-05-09T05:17:03.220400Z"
    }
   },
   "outputs": [
    {
     "name": "stdout",
     "output_type": "stream",
     "text": [
      "5475\n"
     ]
    }
   ],
   "source": [
    "print(len(train_images_1_augmented))"
   ]
  },
  {
   "cell_type": "code",
   "execution_count": 13,
   "metadata": {
    "execution": {
     "iopub.execute_input": "2023-05-09T05:17:03.228741Z",
     "iopub.status.busy": "2023-05-09T05:17:03.228237Z",
     "iopub.status.idle": "2023-05-09T05:19:09.649044Z",
     "shell.execute_reply": "2023-05-09T05:19:09.647729Z",
     "shell.execute_reply.started": "2023-05-09T05:17:03.228700Z"
    }
   },
   "outputs": [
    {
     "name": "stderr",
     "output_type": "stream",
     "text": [
      "100%|██████████| 50/50 [00:45<00:00,  1.11it/s]\n",
      "100%|██████████| 50/50 [00:38<00:00,  1.31it/s]\n",
      "100%|██████████| 50/50 [00:43<00:00,  1.16it/s]\n"
     ]
    }
   ],
   "source": [
    "# Load all the training images for type 2, 3, 4\n",
    "reserved_num = 5000\n",
    "\n",
    "train_images_path_2 = train_df_path_grouped[2]\n",
    "train_images_path_2 = train_images_path_2['image'].values\n",
    "train_images_path_2 = np.random.choice(train_images_path_2, reserved_num)\n",
    "\n",
    "batch_size = 100\n",
    "train_images_2 = []\n",
    "for i in tqdm(range(0, len(train_images_path_2)-1, batch_size)):\n",
    "    train_images_batch_2 = train_images_path_2[i:i + batch_size]\n",
    "    batch_images_2 = [load_image(f) for f in train_images_batch_2]\n",
    "    train_images_2.extend(batch_images_2)\n",
    "\n",
    "        \n",
    "train_images_path_3 = train_df_path_grouped[3]\n",
    "train_images_path_3 = train_images_path_3['image'].values\n",
    "train_images_path_3 = np.random.choice(train_images_path_3, reserved_num)\n",
    "\n",
    "batch_size = 100\n",
    "train_images_3 = []\n",
    "for i in tqdm(range(0, len(train_images_path_3)-1, batch_size)):\n",
    "    train_images_batch_3 = train_images_path_3[i:i + batch_size]\n",
    "    batch_images_3 = [load_image(f) for f in train_images_batch_3]\n",
    "    train_images_3.extend(batch_images_3)\n",
    "\n",
    "train_images_path_4 = train_df_path_grouped[4]\n",
    "train_images_path_4 = train_images_path_4['image'].values\n",
    "train_images_path_4 = np.random.choice(train_images_path_4, reserved_num)\n",
    "\n",
    "batch_size = 100\n",
    "train_images_4 = []\n",
    "for i in tqdm(range(0, len(train_images_path_4)-1, batch_size)):\n",
    "    train_images_batch_4 = train_images_path[i:i + batch_size]\n",
    "    batch_images_4 = [load_image(f) for f in train_images_batch_4]\n",
    "    train_images_4.extend(batch_images_4)"
   ]
  },
  {
   "cell_type": "code",
   "execution_count": 14,
   "metadata": {
    "execution": {
     "iopub.execute_input": "2023-05-09T05:19:09.651717Z",
     "iopub.status.busy": "2023-05-09T05:19:09.651061Z",
     "iopub.status.idle": "2023-05-09T05:19:09.660647Z",
     "shell.execute_reply": "2023-05-09T05:19:09.659223Z",
     "shell.execute_reply.started": "2023-05-09T05:19:09.651674Z"
    }
   },
   "outputs": [],
   "source": [
    "train_images = train_images_0 + train_images_1_augmented + train_images_2 + train_images_3 + train_images_4\n",
    "y_train = [0]*len(train_images_0) + [1]*len(train_images_1_augmented) + [2] * len(train_images_2) + [3] * len(train_images_3) + [4] * len(train_images_4)"
   ]
  },
  {
   "cell_type": "code",
   "execution_count": 15,
   "metadata": {
    "execution": {
     "iopub.execute_input": "2023-05-09T05:19:09.662856Z",
     "iopub.status.busy": "2023-05-09T05:19:09.662336Z",
     "iopub.status.idle": "2023-05-09T05:19:19.182943Z",
     "shell.execute_reply": "2023-05-09T05:19:19.181752Z",
     "shell.execute_reply.started": "2023-05-09T05:19:09.662810Z"
    }
   },
   "outputs": [
    {
     "name": "stdout",
     "output_type": "stream",
     "text": [
      "Have loaded 1000 Test images\n"
     ]
    }
   ],
   "source": [
    "test_num = 1000\n",
    "random_init = random.randint(0, 50000)\n",
    "test_images_path = train_images_path[random_init:random_init+test_num]\n",
    "y_test = train_charts_numtype[random_init:random_init+test_num]\n",
    "test_images = []\n",
    "for i in range(0, len(test_images_path)-1, batch_size):\n",
    "    test_images_batch = test_images_path[i:i + batch_size]\n",
    "    batch_images_test = [load_image(f) for f in test_images_batch]\n",
    "    test_images.extend(batch_images_test)\n",
    "    if i % 1000 == 0:\n",
    "        print('Have loaded', i+1000, 'Test images')"
   ]
  },
  {
   "cell_type": "code",
   "execution_count": 16,
   "metadata": {
    "execution": {
     "iopub.execute_input": "2023-05-09T05:19:19.186576Z",
     "iopub.status.busy": "2023-05-09T05:19:19.184185Z",
     "iopub.status.idle": "2023-05-09T05:19:22.371182Z",
     "shell.execute_reply": "2023-05-09T05:19:22.370166Z",
     "shell.execute_reply.started": "2023-05-09T05:19:19.186540Z"
    }
   },
   "outputs": [],
   "source": [
    "# y_t = pd.DataFrame(y_test)\n",
    "# value_counts = y_t.value_counts()\n",
    "# print(value_counts)\n",
    "# y_t = pd.DataFrame(y_train)\n",
    "# value_counts = y_t.value_counts()\n",
    "# print(value_counts)\n",
    "\n",
    "X_train = np.array([np.reshape(train_image, (128*128*1)) for train_image in train_images])\n",
    "X_test = np.array([np.reshape(test_image, (128*128*1)) for test_image in test_images])\n",
    "X = np.concatenate((X_train, X_test))\n",
    "del X_train\n",
    "del X_test\n",
    "y = np.concatenate((y_train,y_test))\n",
    "del y_train\n",
    "del y_test"
   ]
  },
  {
   "cell_type": "code",
   "execution_count": 20,
   "metadata": {
    "execution": {
     "iopub.execute_input": "2023-05-09T05:23:30.982394Z",
     "iopub.status.busy": "2023-05-09T05:23:30.981844Z",
     "iopub.status.idle": "2023-05-09T05:23:30.991265Z",
     "shell.execute_reply": "2023-05-09T05:23:30.990375Z",
     "shell.execute_reply.started": "2023-05-09T05:23:30.982355Z"
    }
   },
   "outputs": [],
   "source": [
    "def plot_embedding_2d(X, y, title=None):      \n",
    "    x_min, x_max = np.min(X, axis=0), np.max(X, axis=0)    \n",
    "    X = (X-x_min) / (x_max - x_min) \n",
    "    fig = plt.figure()    \n",
    "    ax = fig.add_subplot(1,1,1)\n",
    "    for i in range(X.shape[0]):\n",
    "        ax.text(\n",
    "        X[i,0],X[i,1],            \n",
    "        str(y[i]),            \n",
    "        color = plt.cm.Set1(y[i]/10),            \n",
    "        fontdict = {'weight':'bold', 'size':9}\n",
    "        )\n",
    "    if title is not None:\n",
    "        plt.title(title)\n",
    "        plt.show()"
   ]
  },
  {
   "cell_type": "code",
   "execution_count": 17,
   "metadata": {
    "execution": {
     "iopub.execute_input": "2023-05-09T05:19:22.372677Z",
     "iopub.status.busy": "2023-05-09T05:19:22.372369Z",
     "iopub.status.idle": "2023-05-09T05:19:58.075058Z",
     "shell.execute_reply": "2023-05-09T05:19:58.073572Z",
     "shell.execute_reply.started": "2023-05-09T05:19:22.372651Z"
    }
   },
   "outputs": [],
   "source": [
    "from sklearn.decomposition import PCA\n",
    "\n",
    "pca = PCA(n_components=50)\n",
    "X = pca.fit_transform(X)\n",
    "\n",
    "# # Plot scree plot\n",
    "# plt.plot(np.cumsum(pca.explained_variance_ratio_))\n",
    "# plt.xlabel('Number of components')\n",
    "# plt.ylabel('Cumulative explained variance')\n",
    "# plt.title('Scree Plot')\n",
    "# plt.show()\n",
    "\n",
    "# # Plot cumulative explained variance\n",
    "# var_exp = np.cumsum(pca.explained_variance_ratio_)\n",
    "# plt.bar(range(1, var_exp.size + 1), var_exp)\n",
    "# plt.xlabel('Number of components')\n",
    "# plt.ylabel('Cumulative explained variance')\n",
    "# plt.title('Cumulative explained variance')\n",
    "# plt.show()\n",
    "\n",
    "# plot_embedding_2d(X_pca_train, y_train, 'sklearn PCA')\n",
    "\n",
    "# from sklearn.manifold import Isomap\n",
    "# isomap = Isomap(n_components=50, n_neighbors=25)\n",
    "\n",
    "# X_pca_train = isomap.fit_transform(X_pca_train)\n",
    "# X_pca_test = isomap.fit_transform(X_pca_test)\n",
    "#plot_embedding_2d(X_pca_train, y_train, 'sklearn Isomap')"
   ]
  },
  {
   "cell_type": "code",
   "execution_count": null,
   "metadata": {},
   "outputs": [],
   "source": [
    "!nvidia-smi\n",
    "!cat /usr/local/cuda/version.txt\n",
    "!yes Y | conda install faiss-gpu cudatoolkit=10.0 -c pytorch\n",
    "!apt search openblas\n",
    "!yes Y | apt install libopenblas-dev\n",
    "!wget https://anaconda.org/CannyLab/tsnecuda/2.1.0/download/linux-64/tsnecuda-2.1.0-cuda100.tar.bz2\n",
    "!tar xvjf tsnecuda-2.1.0-cuda100.tar.bz2 — wildcards ‘lib/*’\n",
    "!tar xvjf tsnecuda-2.1.0-cuda100.tar.bz2 — wildcards ‘site-packages/*’\n",
    "!cp -r site-packages/* /opt/conda/lib/python3.6/site-packages/\n",
    "# !export LD_LIBRARY_PATH=”/kaggle/working/lib/” \n",
    "!cp /kaggle/working/lib/libfaiss.so /usr/local/cuda/lib64/"
   ]
  },
  {
   "cell_type": "code",
   "execution_count": 19,
   "metadata": {
    "execution": {
     "iopub.execute_input": "2023-05-09T05:20:33.492617Z",
     "iopub.status.busy": "2023-05-09T05:20:33.492175Z",
     "iopub.status.idle": "2023-05-09T05:21:47.532890Z",
     "shell.execute_reply": "2023-05-09T05:21:47.531779Z",
     "shell.execute_reply.started": "2023-05-09T05:20:33.492575Z"
    }
   },
   "outputs": [
    {
     "name": "stdout",
     "output_type": "stream",
     "text": [
      "Requirement already satisfied: numba in /opt/conda/lib/python3.10/site-packages (0.56.4)\n",
      "Requirement already satisfied: setuptools in /opt/conda/lib/python3.10/site-packages (from numba) (59.8.0)\n",
      "Requirement already satisfied: llvmlite<0.40,>=0.39.0dev0 in /opt/conda/lib/python3.10/site-packages (from numba) (0.39.1)\n",
      "Requirement already satisfied: numpy<1.24,>=1.18 in /opt/conda/lib/python3.10/site-packages (from numba) (1.23.5)\n",
      "\u001b[33mWARNING: Running pip as the 'root' user can result in broken permissions and conflicting behaviour with the system package manager. It is recommended to use a virtual environment instead: https://pip.pypa.io/warnings/venv\u001b[0m\u001b[33m\n",
      "\u001b[0m"
     ]
    },
    {
     "data": {
      "text/plain": [
       "<matplotlib.collections.PathCollection at 0x7c11b89b2c50>"
      ]
     },
     "execution_count": 19,
     "metadata": {},
     "output_type": "execute_result"
    },
    {
     "data": {
      "image/png": "[encoded data removed]",
      "text/plain": [
       "<Figure size 640x480 with 1 Axes>"
      ]
     },
     "metadata": {},
     "output_type": "display_data"
    }
   ],
   "source": [
    "#tsne降维\n",
    "!pip install numba\n",
    "from sklearn.manifold import TSNE\n",
    "tsne = TSNE(n_components=2, \n",
    "            perplexity=10, \n",
    "            learning_rate=200, \n",
    "            n_iter=300, \n",
    "            method='barnes_hut', \n",
    "            n_jobs=-1)\n",
    "X_tsne = tsne.fit_transform(X)\n",
    "plot_embedding_2d(X_tsne, y, 'sklearn tsne')\n",
    "\n",
    "from sklearn.model_selection import train_test_split\n",
    "X_train, X_test, y_train, y_test = train_test_split(X_tsne, y, test_size=0.2, random_state=42)"
   ]
  },
  {
   "cell_type": "code",
   "execution_count": 22,
   "metadata": {
    "execution": {
     "iopub.execute_input": "2023-05-09T05:24:50.704508Z",
     "iopub.status.busy": "2023-05-09T05:24:50.704129Z",
     "iopub.status.idle": "2023-05-09T05:25:29.059046Z",
     "shell.execute_reply": "2023-05-09T05:25:29.058061Z",
     "shell.execute_reply.started": "2023-05-09T05:24:50.704476Z"
    }
   },
   "outputs": [
    {
     "name": "stdout",
     "output_type": "stream",
     "text": [
      "Accuracy: 0.74\n",
      "Accuracy: 0.77\n",
      "[4 0 1 ... 1 2 2]\n"
     ]
    }
   ],
   "source": [
    "from sklearn.tree import DecisionTreeClassifier as DTC\n",
    "from sklearn.metrics import accuracy_score\n",
    "tree= DTC()\n",
    "tree.fit(X_train, y_train)\n",
    "y_pred = tree.predict(X_test)\n",
    "print('Accuracy: %.2f' % accuracy_score(y_test, y_pred))\n",
    "from sklearn.ensemble import RandomForestClassifier as RFC\n",
    "forest = RFC(n_estimators=1000, random_state=0)\n",
    "forest.fit(X_train, y_train)\n",
    "y_pred = forest.predict(X_test)\n",
    "print('Accuracy: %.2f' % accuracy_score(y_test, y_pred))\n",
    "print(y_pred)"
   ]
  },
  {
   "cell_type": "code",
   "execution_count": 23,
   "metadata": {
    "execution": {
     "iopub.execute_input": "2023-05-09T05:25:29.062725Z",
     "iopub.status.busy": "2023-05-09T05:25:29.060712Z",
     "iopub.status.idle": "2023-05-09T05:25:29.088598Z",
     "shell.execute_reply": "2023-05-09T05:25:29.087061Z",
     "shell.execute_reply.started": "2023-05-09T05:25:29.062670Z"
    }
   },
   "outputs": [
    {
     "name": "stdout",
     "output_type": "stream",
     "text": [
      "              precision    recall  f1-score   support\n",
      "\n",
      "           0       0.92      0.93      0.93      1068\n",
      "           1       0.98      0.99      0.98      1101\n",
      "           2       0.65      0.68      0.66      1076\n",
      "           3       0.75      0.85      0.80      1029\n",
      "           4       0.49      0.40      0.44      1048\n",
      "\n",
      "    accuracy                           0.77      5322\n",
      "   macro avg       0.76      0.77      0.76      5322\n",
      "weighted avg       0.76      0.77      0.76      5322\n",
      "\n"
     ]
    }
   ],
   "source": [
    "from sklearn.metrics import classification_report\n",
    "print(classification_report(y_test, y_pred))"
   ]
  },
  {
   "cell_type": "code",
   "execution_count": 24,
   "metadata": {
    "execution": {
     "iopub.execute_input": "2023-05-09T05:25:29.091578Z",
     "iopub.status.busy": "2023-05-09T05:25:29.091030Z",
     "iopub.status.idle": "2023-05-09T05:25:31.264430Z",
     "shell.execute_reply": "2023-05-09T05:25:31.262489Z",
     "shell.execute_reply.started": "2023-05-09T05:25:29.091529Z"
    }
   },
   "outputs": [
    {
     "name": "stdout",
     "output_type": "stream",
     "text": [
      "              precision    recall  f1-score   support\n",
      "\n",
      "           0       0.93      1.00      0.96      1068\n",
      "           1       0.97      0.98      0.98      1101\n",
      "           2       0.65      0.74      0.69      1076\n",
      "           3       0.69      0.91      0.78      1029\n",
      "           4       0.70      0.32      0.44      1048\n",
      "\n",
      "    accuracy                           0.79      5322\n",
      "   macro avg       0.79      0.79      0.77      5322\n",
      "weighted avg       0.79      0.79      0.77      5322\n",
      "\n",
      "[4 0 1 ... 1 2 2]\n"
     ]
    }
   ],
   "source": [
    "import lightgbm as lgb\n",
    "model = lgb.LGBMClassifier()\n",
    "model.fit(X_train, y_train)\n",
    "from sklearn.metrics import classification_report\n",
    "y_pred = model.predict(X_test)\n",
    "print(classification_report(y_test, y_pred))\n",
    "print(y_pred)"
   ]
  },
  {
   "cell_type": "code",
   "execution_count": 25,
   "metadata": {
    "execution": {
     "iopub.execute_input": "2023-05-09T05:25:31.267066Z",
     "iopub.status.busy": "2023-05-09T05:25:31.266690Z",
     "iopub.status.idle": "2023-05-09T05:25:45.974421Z",
     "shell.execute_reply": "2023-05-09T05:25:45.973128Z",
     "shell.execute_reply.started": "2023-05-09T05:25:31.267038Z"
    }
   },
   "outputs": [
    {
     "name": "stdout",
     "output_type": "stream",
     "text": [
      "              precision    recall  f1-score   support\n",
      "\n",
      "           0       0.93      0.99      0.96      1068\n",
      "           1       0.98      0.99      0.98      1101\n",
      "           2       0.66      0.72      0.69      1076\n",
      "           3       0.71      0.90      0.79      1029\n",
      "           4       0.61      0.35      0.44      1048\n",
      "\n",
      "    accuracy                           0.79      5322\n",
      "   macro avg       0.78      0.79      0.77      5322\n",
      "weighted avg       0.78      0.79      0.78      5322\n",
      "\n",
      "[4 0 1 ... 1 2 2]\n"
     ]
    }
   ],
   "source": [
    "import xgboost as xgb\n",
    "\n",
    "xgb_model = xgb.XGBClassifier(\n",
    "    objective='multi:softmax',  \n",
    "    num_class=5,  \n",
    "    max_depth=10, \n",
    "    learning_rate=0.1,  \n",
    "    n_estimators=200  \n",
    ")\n",
    "\n",
    "xgb_model.fit(X_train, y_train)\n",
    "\n",
    "y_pred = xgb_model.predict(X_test)\n",
    "\n",
    "from sklearn.metrics import classification_report\n",
    "print(classification_report(y_test, y_pred))\n",
    "print(y_pred)"
   ]
  },
  {
   "cell_type": "code",
   "execution_count": 27,
   "metadata": {
    "execution": {
     "iopub.execute_input": "2023-05-09T05:26:36.500698Z",
     "iopub.status.busy": "2023-05-09T05:26:36.500364Z",
     "iopub.status.idle": "2023-05-09T05:27:26.635791Z",
     "shell.execute_reply": "2023-05-09T05:27:26.634413Z",
     "shell.execute_reply.started": "2023-05-09T05:26:36.500662Z"
    }
   },
   "outputs": [
    {
     "name": "stdout",
     "output_type": "stream",
     "text": [
      "              precision    recall  f1-score   support\n",
      "\n",
      "           0       0.93      0.99      0.96      1068\n",
      "           1       0.98      0.99      0.98      1101\n",
      "           2       0.66      0.72      0.69      1076\n",
      "           3       0.71      0.90      0.79      1029\n",
      "           4       0.61      0.35      0.44      1048\n",
      "\n",
      "    accuracy                           0.79      5322\n",
      "   macro avg       0.78      0.79      0.77      5322\n",
      "weighted avg       0.78      0.79      0.78      5322\n",
      "\n",
      "[4 0 1 ... 1 2 2]\n"
     ]
    }
   ],
   "source": [
    "from sklearn .svm import SVC\n",
    "from sklearn.preprocessing import StandardScaler as SC\n",
    "from sklearn.metrics import accuracy_score\n",
    "import pandas as pd\n",
    "data1=pd.DataFrame(X_train)\n",
    "data2=pd.DataFrame(X_test)\n",
    "model=SVC(kernel='rbf',C=1000)\n",
    "res=model.fit(data1,y_train)\n",
    "res.predict(data2)\n",
    "accuracy_score(res.predict(data2),y_test)\n",
    "from sklearn.metrics import classification_report\n",
    "print(classification_report(y_test, y_pred))\n",
    "print(y_pred)"
   ]
  }
 ],
 "metadata": {
  "kernelspec": {
   "display_name": "Python 3 (ipykernel)",
   "language": "python",
   "name": "python3"
  },
  "language_info": {
   "codemirror_mode": {
    "name": "ipython",
    "version": 3
   },
   "file_extension": ".py",
   "mimetype": "text/x-python",
   "name": "python",
   "nbconvert_exporter": "python",
   "pygments_lexer": "ipython3",
   "version": "3.9.12"
  }
 },
 "nbformat": 4,
 "nbformat_minor": 4
}
